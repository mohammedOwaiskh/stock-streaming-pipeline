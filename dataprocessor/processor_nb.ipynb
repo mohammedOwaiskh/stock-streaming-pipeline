{
 "cells": [
  {
   "cell_type": "code",
   "execution_count": 1,
   "metadata": {},
   "outputs": [],
   "source": [
    "import os\n",
    "import sys\n",
    "\n",
    "from pyspark.sql import SparkSession\n",
    "from pyspark.sql import functions as f\n",
    "from pyspark.sql.types import (\n",
    "    ArrayType,\n",
    "    DateType,\n",
    "    DecimalType,\n",
    "    IntegerType,\n",
    "    LongType,\n",
    "    StringType,\n",
    "    StructField,\n",
    "    StructType,\n",
    ")\n",
    "\n",
    "# Add the parent directory to the Python path\n",
    "sys.path.append(os.path.abspath(os.path.join(os.getcwd(), \"..\")))\n",
    "from utils import configutils\n",
    "from utils import sparkutils"
   ]
  },
  {
   "cell_type": "code",
   "execution_count": 2,
   "metadata": {},
   "outputs": [],
   "source": [
    "conf = sparkutils.get_spark_config()"
   ]
  },
  {
   "cell_type": "code",
   "execution_count": 3,
   "metadata": {},
   "outputs": [],
   "source": [
    "spark: SparkSession = SparkSession.builder.config(conf=conf).getOrCreate()"
   ]
  },
  {
   "cell_type": "code",
   "execution_count": 3,
   "metadata": {},
   "outputs": [],
   "source": [
    "AWS_ACCESS_KEY = configutils.read_application_config(\"AWS_ACCESS_KEY_ID\")\n",
    "AWS_SECRET_KEY = configutils.read_application_config(\"AWS_SECRET_ACCESS_KEY\")"
   ]
  },
  {
   "cell_type": "code",
   "execution_count": 4,
   "metadata": {},
   "outputs": [],
   "source": [
    "hadoopConfig = spark.sparkContext._jsc.hadoopConfiguration()\n",
    "hadoopConfig.set(\n",
    "    \"fs.s3a.aws.credentials.provider\",\n",
    "    \"org.apache.hadoop.fs.s3a.SimpleAWSCredentialsProvider\",\n",
    ")\n",
    "hadoopConfig.set(\"fs.s3a.access.key\", AWS_ACCESS_KEY)\n",
    "hadoopConfig.set(\"fs.s3a.secret.key\", AWS_SECRET_KEY)"
   ]
  },
  {
   "cell_type": "code",
   "execution_count": 5,
   "metadata": {},
   "outputs": [],
   "source": [
    "kafka_df = (\n",
    "    spark.read.format(\"kafka\")\n",
    "    .option(\"kafka.bootstrap.servers\", \"localhost:9092\")\n",
    "    .option(\"subscribe\", \"stock-data\")\n",
    "    .option(\"startingOffsets\", \"earliest\")\n",
    "    .option(\"group.id\", \"stock-stream-consumer\")\n",
    "    .option(\"failOnDataLoss\", False)\n",
    "    .load()\n",
    ")"
   ]
  },
  {
   "cell_type": "code",
   "execution_count": null,
   "metadata": {},
   "outputs": [],
   "source": [
    "kafka_df.show()"
   ]
  },
  {
   "cell_type": "code",
   "execution_count": 30,
   "metadata": {},
   "outputs": [],
   "source": [
    "# kafka_df.writeStream.format(\"console\").outputMode(\"append\").start().awaitTermination()"
   ]
  },
  {
   "cell_type": "code",
   "execution_count": 7,
   "metadata": {},
   "outputs": [],
   "source": [
    "schema = StructType(\n",
    "    [\n",
    "        StructField(\"type\", StringType()),\n",
    "        StructField(\n",
    "            \"data\",\n",
    "            ArrayType(\n",
    "                StructType(\n",
    "                    [\n",
    "                        StructField(\"p\", DecimalType()),\n",
    "                        StructField(\"s\", StringType()),\n",
    "                        StructField(\"t\", LongType()),\n",
    "                        StructField(\"v\", DecimalType()),\n",
    "                        StructField(\"c\", IntegerType()),\n",
    "                    ]\n",
    "                )\n",
    "            ),\n",
    "        ),\n",
    "        StructField(\n",
    "            \"companyProfile\",\n",
    "            StructType(\n",
    "                [\n",
    "                    StructField(\"country\", StringType()),\n",
    "                    StructField(\"currency\", StringType()),\n",
    "                    StructField(\"exchange\", StringType()),\n",
    "                    StructField(\"ipo\", DateType()),\n",
    "                    StructField(\"marketCapitalization\", DecimalType()),\n",
    "                    StructField(\"name\", StringType()),\n",
    "                    StructField(\"phone\", StringType()),\n",
    "                    StructField(\"shareOutstanding\", DecimalType()),\n",
    "                    StructField(\"ticker\", StringType()),\n",
    "                    StructField(\"weburl\", StringType()),\n",
    "                    StructField(\"logo\", StringType()),\n",
    "                    StructField(\"finnhubIndustry\", StringType()),\n",
    "                ]\n",
    "            ),\n",
    "        ),\n",
    "    ]\n",
    ")"
   ]
  },
  {
   "cell_type": "code",
   "execution_count": 8,
   "metadata": {},
   "outputs": [],
   "source": [
    "kafka_df = kafka_df.withColumn(\"key\", f.col(\"key\").cast(StringType())).withColumn(\n",
    "    \"value\", f.col(\"value\").cast(StringType())\n",
    ")"
   ]
  },
  {
   "cell_type": "code",
   "execution_count": 9,
   "metadata": {},
   "outputs": [],
   "source": [
    "raw_df = (\n",
    "    kafka_df.withColumn(\"symbol\", f.col(\"key\"))\n",
    "    .withColumn(\"value\", f.from_json(f.col(\"value\"), schema))\n",
    "    .select(\"symbol\", \"value.*\")\n",
    ")"
   ]
  },
  {
   "cell_type": "code",
   "execution_count": null,
   "metadata": {},
   "outputs": [],
   "source": [
    "raw_df.show()"
   ]
  },
  {
   "cell_type": "code",
   "execution_count": 11,
   "metadata": {},
   "outputs": [],
   "source": [
    "raw_df = raw_df.filter(f.col(\"symbol\").isNotNull())"
   ]
  },
  {
   "cell_type": "code",
   "execution_count": null,
   "metadata": {},
   "outputs": [],
   "source": [
    "raw_df.show()"
   ]
  },
  {
   "cell_type": "code",
   "execution_count": 18,
   "metadata": {},
   "outputs": [],
   "source": [
    "company_data = raw_df.select(\"companyProfile.*\")"
   ]
  },
  {
   "cell_type": "code",
   "execution_count": null,
   "metadata": {},
   "outputs": [],
   "source": [
    "company_data.show()"
   ]
  },
  {
   "cell_type": "code",
   "execution_count": null,
   "metadata": {},
   "outputs": [],
   "source": [
    "company_data.printSchema()"
   ]
  },
  {
   "cell_type": "code",
   "execution_count": null,
   "metadata": {},
   "outputs": [],
   "source": [
    "final_company_data = company_data.select(\n",
    "    \"ticker\",\n",
    "    \"name\",\n",
    "    \"phone\",\n",
    "    \"weburl\",\n",
    "    \"logo\",\n",
    "    f.col(\"finnhubIndustry\").alias(\"industry\"),\n",
    "    \"marketCapitalization\",\n",
    "    \"country\",\n",
    "    \"exchange\",\n",
    "    \"ipo\",\n",
    "    \"shareOutstanding\",\n",
    ")"
   ]
  },
  {
   "cell_type": "code",
   "execution_count": null,
   "metadata": {},
   "outputs": [],
   "source": [
    "final_company_data.show()"
   ]
  },
  {
   "cell_type": "code",
   "execution_count": 28,
   "metadata": {},
   "outputs": [],
   "source": [
    "final_company_data.write.mode(\"append\").parquet(\n",
    "    \"s3a://stock-data-output/company-data/final\"\n",
    ")"
   ]
  },
  {
   "cell_type": "code",
   "execution_count": null,
   "metadata": {},
   "outputs": [],
   "source": [
    "raw_df.show()"
   ]
  },
  {
   "cell_type": "code",
   "execution_count": 57,
   "metadata": {},
   "outputs": [],
   "source": [
    "price_data = raw_df.select(\"symbol\", f.posexplode(\"data\").alias(\"pos\", \"data\")).drop(\n",
    "    \"pos\"\n",
    ")"
   ]
  },
  {
   "cell_type": "code",
   "execution_count": null,
   "metadata": {},
   "outputs": [],
   "source": [
    "price_data.show()"
   ]
  },
  {
   "cell_type": "code",
   "execution_count": 59,
   "metadata": {},
   "outputs": [],
   "source": [
    "price_data = price_data.select(f.col(\"symbol\").alias(\"ticker\"), \"data.*\")"
   ]
  },
  {
   "cell_type": "code",
   "execution_count": null,
   "metadata": {},
   "outputs": [],
   "source": [
    "price_data.show()"
   ]
  },
  {
   "cell_type": "code",
   "execution_count": null,
   "metadata": {},
   "outputs": [],
   "source": [
    "final_price_data = "
   ]
  }
 ],
 "metadata": {
  "kernelspec": {
   "display_name": "Python 3",
   "language": "python",
   "name": "python3"
  },
  "language_info": {
   "codemirror_mode": {
    "name": "ipython",
    "version": 3
   },
   "file_extension": ".py",
   "mimetype": "text/x-python",
   "name": "python",
   "nbconvert_exporter": "python",
   "pygments_lexer": "ipython3",
   "version": "3.12.8"
  }
 },
 "nbformat": 4,
 "nbformat_minor": 2
}
