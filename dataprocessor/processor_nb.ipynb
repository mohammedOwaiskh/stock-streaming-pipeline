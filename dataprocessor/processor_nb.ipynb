{
 "cells": [
  {
   "cell_type": "code",
   "execution_count": 4,
   "metadata": {},
   "outputs": [],
   "source": [
    "from pyspark.sql import SparkSession\n",
    "from pyspark.sql import functions as f\n",
    "from pyspark.sql.types import (\n",
    "    ArrayType,\n",
    "    DateType,\n",
    "    DecimalType,\n",
    "    IntegerType,\n",
    "    LongType,\n",
    "    StringType,\n",
    "    StructField,\n",
    "    StructType,\n",
    ")"
   ]
  },
  {
   "cell_type": "code",
   "execution_count": 5,
   "metadata": {},
   "outputs": [],
   "source": [
    "spark: SparkSession = (\n",
    "    SparkSession.builder.appName(\"StockStream\").master(\"local\")\n",
    "    .config(\n",
    "        \"spark.jars.packages\",\n",
    "        \"org.apache.spark:spark-sql-kafka-0-10_2.12:3.4.0,com.amazonaws:aws-java-sdk:1.12.183,org.apache.hadoop:hadoop-aws:3.2.2\",\n",
    "    )\n",
    "    .config(\"spark.sql.shuffle.partitions\", \"4\").getOrCreate()\n",
    ")"
   ]
  },
  {
   "cell_type": "code",
   "execution_count": 28,
   "metadata": {},
   "outputs": [],
   "source": [
    "kafka_df = (\n",
    "    spark.read.format(\"kafka\")\n",
    "    .option(\"kafka.bootstrap.servers\", \"localhost:9092\")\n",
    "    .option(\"subscribe\", \"stock-data\")\n",
    "    .option(\"startingOffsets\", \"earliest\")\n",
    "    .option(\"group.id\", \"stock-stream-consumer\")\n",
    "    .option(\"failOnDataLoss\", False)\n",
    "    .load()\n",
    ")"
   ]
  },
  {
   "cell_type": "code",
   "execution_count": 29,
   "metadata": {},
   "outputs": [
    {
     "name": "stdout",
     "output_type": "stream",
     "text": [
      "+-------------+--------------------+----------+---------+------+--------------------+-------------+\n",
      "|          key|               value|     topic|partition|offset|           timestamp|timestampType|\n",
      "+-------------+--------------------+----------+---------+------+--------------------+-------------+\n",
      "|[41 41 50 4C]|[7B 22 63 6F 6D 7...|stock-data|        0|     0|2024-12-29 11:37:...|            0|\n",
      "|[41 41 50 4C]|[7B 22 63 6F 6D 7...|stock-data|        0|     1|2024-12-29 11:38:...|            0|\n",
      "|         NULL|[7B 22 74 79 70 6...|stock-data|        1|     0|2024-12-28 23:50:...|            0|\n",
      "|         NULL|[7B 22 74 79 70 6...|stock-data|        1|     1|2024-12-28 23:50:...|            0|\n",
      "|         NULL|[7B 22 74 79 70 6...|stock-data|        2|     0|2024-12-28 23:50:...|            0|\n",
      "+-------------+--------------------+----------+---------+------+--------------------+-------------+\n",
      "\n"
     ]
    }
   ],
   "source": [
    "kafka_df.show()"
   ]
  },
  {
   "cell_type": "code",
   "execution_count": 30,
   "metadata": {},
   "outputs": [],
   "source": [
    "# kafka_df.writeStream.format(\"console\").outputMode(\"append\").start().awaitTermination()"
   ]
  },
  {
   "cell_type": "code",
   "execution_count": 31,
   "metadata": {},
   "outputs": [],
   "source": [
    "schema = StructType(\n",
    "    [\n",
    "        StructField(\"type\", StringType()),\n",
    "        StructField(\n",
    "            \"data\",\n",
    "            ArrayType(\n",
    "                StructType(\n",
    "                    [\n",
    "                        StructField(\"p\", DecimalType()),\n",
    "                        StructField(\"s\", StringType()),\n",
    "                        StructField(\"t\", LongType()),\n",
    "                        StructField(\"v\", DecimalType()),\n",
    "                        StructField(\"c\", IntegerType()),\n",
    "                    ]\n",
    "                )\n",
    "            ),\n",
    "        ),\n",
    "        StructField(\n",
    "            \"companyProfile\",\n",
    "            StructType(\n",
    "                [\n",
    "                    StructField(\"country\", StringType()),\n",
    "                    StructField(\"currency\", StringType()),\n",
    "                    StructField(\"exchange\", StringType()),\n",
    "                    StructField(\"ipo\", DateType()),\n",
    "                    StructField(\"marketCapitalization\", DecimalType()),\n",
    "                    StructField(\"name\", StringType()),\n",
    "                    StructField(\"phone\", StringType()),\n",
    "                    StructField(\"shareOutstanding\", DecimalType()),\n",
    "                    StructField(\"ticker\", StringType()),\n",
    "                    StructField(\"weburl\", StringType()),\n",
    "                    StructField(\"logo\", StringType()),\n",
    "                    StructField(\"finnhubIndustry\", StringType()),\n",
    "                ]\n",
    "            ),\n",
    "        ),\n",
    "    ]\n",
    ")"
   ]
  },
  {
   "cell_type": "code",
   "execution_count": 32,
   "metadata": {},
   "outputs": [],
   "source": [
    "kafka_df = kafka_df\\\n",
    "    .withColumn(\"key\", f.col(\"key\").cast(StringType()))\\\n",
    "    .withColumn(\"value\", f.col(\"value\").cast(StringType()))"
   ]
  },
  {
   "cell_type": "code",
   "execution_count": 33,
   "metadata": {},
   "outputs": [],
   "source": [
    "raw_df = kafka_df.withColumn(\"symbol\",f.col(\"key\")).withColumn(\"value\",f.from_json(f.col(\"value\"),schema)).select(\"symbol\",\"value.*\")"
   ]
  },
  {
   "cell_type": "code",
   "execution_count": 34,
   "metadata": {},
   "outputs": [
    {
     "name": "stdout",
     "output_type": "stream",
     "text": [
      "+------+-----+--------------------+--------------------+\n",
      "|symbol| type|                data|      companyProfile|\n",
      "+------+-----+--------------------+--------------------+\n",
      "|  AAPL|trade|[{256, AAPL, 1735...|{US, USD, NASDAQ/...|\n",
      "|  AAPL|trade|[{256, AAPL, 1735...|{US, USD, NASDAQ/...|\n",
      "|  NULL| ping|                NULL|                NULL|\n",
      "|  NULL| ping|                NULL|                NULL|\n",
      "|  NULL| ping|                NULL|                NULL|\n",
      "+------+-----+--------------------+--------------------+\n",
      "\n"
     ]
    }
   ],
   "source": [
    "raw_df.show()"
   ]
  },
  {
   "cell_type": "code",
   "execution_count": 35,
   "metadata": {},
   "outputs": [],
   "source": [
    "raw_df = raw_df.filter(f.col(\"symbol\").isNotNull())"
   ]
  },
  {
   "cell_type": "code",
   "execution_count": 36,
   "metadata": {},
   "outputs": [
    {
     "name": "stdout",
     "output_type": "stream",
     "text": [
      "+------+-----+--------------------+--------------------+\n",
      "|symbol| type|                data|      companyProfile|\n",
      "+------+-----+--------------------+--------------------+\n",
      "|  AAPL|trade|[{256, AAPL, 1735...|{US, USD, NASDAQ/...|\n",
      "|  AAPL|trade|[{256, AAPL, 1735...|{US, USD, NASDAQ/...|\n",
      "+------+-----+--------------------+--------------------+\n",
      "\n"
     ]
    }
   ],
   "source": [
    "raw_df.show()"
   ]
  },
  {
   "cell_type": "code",
   "execution_count": 37,
   "metadata": {},
   "outputs": [],
   "source": [
    "company_data = raw_df.select(\"companyProfile.*\")"
   ]
  },
  {
   "cell_type": "code",
   "execution_count": 57,
   "metadata": {},
   "outputs": [],
   "source": [
    "price_data = raw_df.select(\"symbol\",f.posexplode(\"data\").alias(\"pos\",\"data\")).drop(\"pos\")"
   ]
  },
  {
   "cell_type": "code",
   "execution_count": 58,
   "metadata": {},
   "outputs": [
    {
     "name": "stdout",
     "output_type": "stream",
     "text": [
      "+------+--------------------+\n",
      "|symbol|                data|\n",
      "+------+--------------------+\n",
      "|  AAPL|{256, AAPL, 17354...|\n",
      "|  AAPL|{256, AAPL, 17354...|\n",
      "+------+--------------------+\n",
      "\n"
     ]
    }
   ],
   "source": [
    "price_data.show()"
   ]
  },
  {
   "cell_type": "code",
   "execution_count": 59,
   "metadata": {},
   "outputs": [],
   "source": [
    "price_data = price_data.select(f.col(\"symbol\").alias(\"ticker\"),\"data.*\")"
   ]
  },
  {
   "cell_type": "code",
   "execution_count": 60,
   "metadata": {},
   "outputs": [
    {
     "name": "stdout",
     "output_type": "stream",
     "text": [
      "+------+---+----+-------------+----+----+\n",
      "|ticker|  p|   s|            t|   v|   c|\n",
      "+------+---+----+-------------+----+----+\n",
      "|  AAPL|256|AAPL|1735451912469|1300|NULL|\n",
      "|  AAPL|256|AAPL|1735451912469|1300|NULL|\n",
      "+------+---+----+-------------+----+----+\n",
      "\n"
     ]
    }
   ],
   "source": [
    "price_data.show()"
   ]
  },
  {
   "cell_type": "code",
   "execution_count": null,
   "metadata": {},
   "outputs": [],
   "source": [
    "final_price_data = "
   ]
  }
 ],
 "metadata": {
  "kernelspec": {
   "display_name": "Python 3",
   "language": "python",
   "name": "python3"
  },
  "language_info": {
   "codemirror_mode": {
    "name": "ipython",
    "version": 3
   },
   "file_extension": ".py",
   "mimetype": "text/x-python",
   "name": "python",
   "nbconvert_exporter": "python",
   "pygments_lexer": "ipython3",
   "version": "3.12.8"
  }
 },
 "nbformat": 4,
 "nbformat_minor": 2
}
